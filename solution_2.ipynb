{
 "cells": [
  {
   "cell_type": "code",
   "execution_count": 2,
   "id": "ce50bd01-d4e1-4eaf-9eab-9addfe4ec671",
   "metadata": {},
   "outputs": [],
   "source": [
    "import numpy as np\n",
    "import pandas as pd \n",
    "import matplotlib.pyplot as plt\n",
    "import plotly.express as px\n",
    "from sklearn.feature_extraction.text import CountVectorizer,TfidfVectorizer\n",
    "from scipy .stats import pearsonr\n",
    "from scipy.sparse import csr_matrix\n",
    "from statsmodels.tsa.seasonal import seasonal_decompose\n",
    "from statsmodels.tsa.holtwinters import ExponentialSmoothing\n",
    "from sklearn.metrics import mean_squared_error\n"
   ]
  },
  {
   "cell_type": "code",
   "execution_count": 3,
   "id": "9394179d-07eb-4254-af9c-4cfcab595e2a",
   "metadata": {},
   "outputs": [],
   "source": [
    "df=pd.read_csv('/Users/debasishguru/Desktop/untitled folder/Next Project Hike 8 /all_upwork_jobs_next.csv')\n"
   ]
  },
  {
   "cell_type": "markdown",
   "id": "61e6cca8-8cc0-4c9e-a18e-621c1fbe0e45",
   "metadata": {},
   "source": [
    "## Compare average hourly rates across different countries"
   ]
  },
  {
   "cell_type": "code",
   "execution_count": 4,
   "id": "eabc26ce-f75c-418e-951f-90c88611ce0c",
   "metadata": {},
   "outputs": [
    {
     "data": {
      "application/vnd.plotly.v1+json": {
       "config": {
        "plotlyServerURL": "https://plot.ly"
       },
       "data": [
        {
         "coloraxis": "coloraxis",
         "geo": "geo",
         "hovertemplate": "<b>%{hovertext}</b><br><br>country=%{location}<br>avg_hourly_rate=%{z}<extra></extra>",
         "hovertext": [
          "Albania",
          "Algeria",
          "American Samoa",
          "Andorra",
          "Angola",
          "Anguilla",
          "Antigua and Barbuda",
          "Argentina",
          "Armenia",
          "Aruba",
          "Australia",
          "Austria",
          "Azerbaijan",
          "Bahamas",
          "Bahrain",
          "Bangladesh",
          "Barbados",
          "Belgium",
          "Belize",
          "Benin",
          "Bermuda",
          "Bhutan",
          "Bolivia",
          "Bosnia and Herzegovina",
          "Botswana",
          "Brazil",
          "British Virgin Islands",
          "Brunei Darussalam",
          "Bulgaria",
          "Burkina Faso",
          "Burundi",
          "Cambodia",
          "Cameroon",
          "Canada",
          "Cayman Islands",
          "Central African Republic",
          "Chile",
          "China",
          "Cocos (Keeling) Islands",
          "Colombia",
          "Comoros",
          "Congo",
          "Congo, the Democratic Republic of the",
          "Cook Islands",
          "Costa Rica",
          "Cote d&#039;Ivoire",
          "Croatia",
          "Curacao",
          "Cyprus",
          "Czech Republic",
          "Denmark",
          "Djibouti",
          "Dominica",
          "Dominican Republic",
          "Ecuador",
          "Egypt",
          "El Salvador",
          "Eritrea",
          "Estonia",
          "Ethiopia",
          "Fiji",
          "Finland",
          "France",
          "French Guiana",
          "French Polynesia",
          "Gabon",
          "Georgia",
          "Germany",
          "Ghana",
          "Gibraltar",
          "Greece",
          "Grenada",
          "Guadeloupe",
          "Guam",
          "Guatemala",
          "Guernsey",
          "Guinea",
          "Guyana",
          "Haiti",
          "Holy See",
          "Honduras",
          "Hong Kong",
          "Hungary",
          "Iceland",
          "India",
          "Indonesia",
          "Ireland",
          "Isle of Man",
          "Israel",
          "Italy",
          "Jamaica",
          "Japan",
          "Jersey",
          "Jordan",
          "Kazakhstan",
          "Kenya",
          "Kiribati",
          "Kuwait",
          "Kyrgyzstan",
          "Laos",
          "Latvia",
          "Lebanon",
          "Liechtenstein",
          "Lithuania",
          "Luxembourg",
          "Macao",
          "Macedonia",
          "Madagascar",
          "Malawi",
          "Malaysia",
          "Maldives",
          "Mali",
          "Malta",
          "Martinique",
          "Mauritania",
          "Mauritius",
          "Mexico",
          "Micronesia, Federated States of",
          "Moldova",
          "Monaco",
          "Mongolia",
          "Montenegro",
          "Morocco",
          "Mozambique",
          "Myanmar",
          "Namibia",
          "Nepal",
          "Netherlands",
          "Netherlands Antilles",
          "New Caledonia",
          "New Zealand",
          "Nicaragua",
          "Niger",
          "Nigeria",
          "Northern Mariana Islands",
          "Norway",
          "Oman",
          "Pakistan",
          "Palau",
          "Palestinian Territories",
          "Panama",
          "Papua New Guinea",
          "Paraguay",
          "Peru",
          "Philippines",
          "Poland",
          "Portugal",
          "Puerto Rico",
          "Qatar",
          "Reunion",
          "Romania",
          "Russia",
          "Rwanda",
          "Saint Kitts and Nevis",
          "Saint Lucia",
          "Saint Vincent and the Grenadines",
          "Samoa",
          "San Marino",
          "Saudi Arabia",
          "Senegal",
          "Serbia",
          "Seychelles",
          "Sierra Leone",
          "Singapore",
          "Sint Maarten (Dutch part)",
          "Slovakia",
          "Slovenia",
          "Somalia",
          "South Africa",
          "South Korea",
          "Spain",
          "Sri Lanka",
          "Swaziland",
          "Sweden",
          "Switzerland",
          "Taiwan",
          "Tajikistan",
          "Tanzania",
          "Thailand",
          "Timor-Leste",
          "Togo",
          "Trinidad and Tobago",
          "Tunisia",
          "Turkey",
          "Turkmenistan",
          "Turks and Caicos Islands",
          "Uganda",
          "Ukraine",
          "United Arab Emirates",
          "United Kingdom",
          "United States",
          "United States Minor Outlying Islands",
          "United States Virgin Islands",
          "Unknown",
          "Uruguay",
          "Uzbekistan",
          "Vanuatu",
          "Venezuela",
          "Vietnam",
          "Yemen",
          "Zambia",
          "Zimbabwe"
         ],
         "locationmode": "country names",
         "locations": [
          "Albania",
          "Algeria",
          "American Samoa",
          "Andorra",
          "Angola",
          "Anguilla",
          "Antigua and Barbuda",
          "Argentina",
          "Armenia",
          "Aruba",
          "Australia",
          "Austria",
          "Azerbaijan",
          "Bahamas",
          "Bahrain",
          "Bangladesh",
          "Barbados",
          "Belgium",
          "Belize",
          "Benin",
          "Bermuda",
          "Bhutan",
          "Bolivia",
          "Bosnia and Herzegovina",
          "Botswana",
          "Brazil",
          "British Virgin Islands",
          "Brunei Darussalam",
          "Bulgaria",
          "Burkina Faso",
          "Burundi",
          "Cambodia",
          "Cameroon",
          "Canada",
          "Cayman Islands",
          "Central African Republic",
          "Chile",
          "China",
          "Cocos (Keeling) Islands",
          "Colombia",
          "Comoros",
          "Congo",
          "Congo, the Democratic Republic of the",
          "Cook Islands",
          "Costa Rica",
          "Cote d&#039;Ivoire",
          "Croatia",
          "Curacao",
          "Cyprus",
          "Czech Republic",
          "Denmark",
          "Djibouti",
          "Dominica",
          "Dominican Republic",
          "Ecuador",
          "Egypt",
          "El Salvador",
          "Eritrea",
          "Estonia",
          "Ethiopia",
          "Fiji",
          "Finland",
          "France",
          "French Guiana",
          "French Polynesia",
          "Gabon",
          "Georgia",
          "Germany",
          "Ghana",
          "Gibraltar",
          "Greece",
          "Grenada",
          "Guadeloupe",
          "Guam",
          "Guatemala",
          "Guernsey",
          "Guinea",
          "Guyana",
          "Haiti",
          "Holy See",
          "Honduras",
          "Hong Kong",
          "Hungary",
          "Iceland",
          "India",
          "Indonesia",
          "Ireland",
          "Isle of Man",
          "Israel",
          "Italy",
          "Jamaica",
          "Japan",
          "Jersey",
          "Jordan",
          "Kazakhstan",
          "Kenya",
          "Kiribati",
          "Kuwait",
          "Kyrgyzstan",
          "Laos",
          "Latvia",
          "Lebanon",
          "Liechtenstein",
          "Lithuania",
          "Luxembourg",
          "Macao",
          "Macedonia",
          "Madagascar",
          "Malawi",
          "Malaysia",
          "Maldives",
          "Mali",
          "Malta",
          "Martinique",
          "Mauritania",
          "Mauritius",
          "Mexico",
          "Micronesia, Federated States of",
          "Moldova",
          "Monaco",
          "Mongolia",
          "Montenegro",
          "Morocco",
          "Mozambique",
          "Myanmar",
          "Namibia",
          "Nepal",
          "Netherlands",
          "Netherlands Antilles",
          "New Caledonia",
          "New Zealand",
          "Nicaragua",
          "Niger",
          "Nigeria",
          "Northern Mariana Islands",
          "Norway",
          "Oman",
          "Pakistan",
          "Palau",
          "Palestinian Territories",
          "Panama",
          "Papua New Guinea",
          "Paraguay",
          "Peru",
          "Philippines",
          "Poland",
          "Portugal",
          "Puerto Rico",
          "Qatar",
          "Reunion",
          "Romania",
          "Russia",
          "Rwanda",
          "Saint Kitts and Nevis",
          "Saint Lucia",
          "Saint Vincent and the Grenadines",
          "Samoa",
          "San Marino",
          "Saudi Arabia",
          "Senegal",
          "Serbia",
          "Seychelles",
          "Sierra Leone",
          "Singapore",
          "Sint Maarten (Dutch part)",
          "Slovakia",
          "Slovenia",
          "Somalia",
          "South Africa",
          "South Korea",
          "Spain",
          "Sri Lanka",
          "Swaziland",
          "Sweden",
          "Switzerland",
          "Taiwan",
          "Tajikistan",
          "Tanzania",
          "Thailand",
          "Timor-Leste",
          "Togo",
          "Trinidad and Tobago",
          "Tunisia",
          "Turkey",
          "Turkmenistan",
          "Turks and Caicos Islands",
          "Uganda",
          "Ukraine",
          "United Arab Emirates",
          "United Kingdom",
          "United States",
          "United States Minor Outlying Islands",
          "United States Virgin Islands",
          "Unknown",
          "Uruguay",
          "Uzbekistan",
          "Vanuatu",
          "Venezuela",
          "Vietnam",
          "Yemen",
          "Zambia",
          "Zimbabwe"
         ],
         "name": "",
         "type": "choropleth",
         "z": [
          28.244398224196914,
          25.51189608646396,
          21.8850422997801,
          31.572323525887274,
          30.16089678300348,
          29.655126899340296,
          23.13102537986806,
          29.51020283965713,
          27.124301169516908,
          16.593375633113432,
          25.722333069164094,
          27.1059008350437,
          33.3246051170436,
          20.427114087222407,
          28.518511312806666,
          31.014476418276686,
          31.718375633113435,
          29.68861784941734,
          24.95505398567747,
          23.718375633113432,
          23.968375633113435,
          26.99510166202649,
          20.92257617015152,
          29.12047124763842,
          28.859187816556716,
          27.82004330733677,
          36.97080827672009,
          16.696538069802088,
          27.620528942649525,
          29.655126899340296,
          20,
          26.235409098676666,
          25.662050759736122,
          27.62990122680769,
          32.73920896644676,
          5,
          29.616675130739587,
          30.258578652743807,
          25,
          30.841727070146415,
          29.655126899340296,
          27.5,
          24.93102537986806,
          29.655126899340296,
          25.966111842269445,
          26.698914484260158,
          22.815214762059924,
          29.86617319830667,
          30.77779850275357,
          29.138626768182334,
          29.75120396503893,
          19.827563449670148,
          25,
          21.763817228693696,
          30.361055119975976,
          29.871767367431715,
          21.66421749767991,
          100,
          26.701859225947615,
          29.919911043247087,
          12.5,
          25.07592100059034,
          27.11064441324653,
          34,
          18.199506531640008,
          20,
          27.329203374839665,
          28.186554528578935,
          18.479670049858637,
          32.124654430566245,
          28.455485301407737,
          29.23102537986806,
          18.952563449670148,
          28.224101519472235,
          31.158428238220704,
          19.214285714285715,
          26,
          27.75,
          29.26205075973612,
          17.5,
          23.283435531815286,
          27.27327934797476,
          30.82086153314381,
          24.08571911931617,
          25.865080334445462,
          29.736943611914274,
          27.787643664778074,
          31.06892803475083,
          28.07775480286445,
          27.950090328025148,
          27.122636370470328,
          23.624470711086644,
          30.407999451187052,
          32.54369670525498,
          30.83840610796234,
          31.77003288144781,
          20,
          28.579053352158667,
          26.265063449670148,
          156.62132624651986,
          31.73935307994191,
          25.916225117116493,
          39.59358955704862,
          29.173721457042262,
          27.366731479470932,
          19.202563449670148,
          26.860626880070033,
          27.496852790729175,
          64.03878172483508,
          42.93339432346065,
          25.99134517450522,
          25.5,
          26.070937161746773,
          29.655126899340296,
          24.46205075973612,
          24.671623755597132,
          26.239030553709487,
          37.5,
          27.809976316718725,
          27.689636208058456,
          26.15,
          26.672616947554936,
          28.16066907263834,
          23.051708966446768,
          31.767553985677473,
          19.51551268993403,
          27.78883357678368,
          25.96685381466637,
          61.25,
          29.655126899340296,
          25.612534794245672,
          23.2068758633365,
          16.5,
          27.53487919373367,
          22.362050759736118,
          28.832981341536172,
          29.824731733926697,
          26.478640173467657,
          29.655126899340292,
          28.20892024217668,
          24.81639125369139,
          21.333333333333332,
          28.295628184793028,
          24.54249382386672,
          29.490405648114415,
          28.683018709485467,
          26.70300288099603,
          29.045790470619256,
          26.85057734473202,
          20.615750542668657,
          26.769155464261605,
          21.5,
          27.712106622555332,
          20.25,
          20.233658983690468,
          25.802929656765883,
          29.655126899340296,
          27.327563449670148,
          29.64908910764552,
          29.162557140341693,
          25.17096498489957,
          22.864776915581146,
          27.86634517450522,
          26.749429793835233,
          19.913781724835076,
          27.511884901227976,
          23.866515166103618,
          22.456890862417538,
          27.784642902654134,
          17.76548851005645,
          26.75747507617711,
          23.34267727088238,
          25.577563449670148,
          28.847541179132058,
          27.522309404677962,
          19.974453328224268,
          29.655126899340296,
          28.891145302856994,
          38.495716591191034,
          25,
          19.5,
          26.55342103516013,
          26.436404721674894,
          28.05354335834817,
          29.655126899340292,
          46.625,
          28.61788579931608,
          30.139481569686374,
          27.978009720488014,
          29.462534232765776,
          31.75709644033745,
          15,
          32.26824415310003,
          30.202651749370812,
          29.106950256090823,
          23.38185372140915,
          6.5,
          21.755340796922965,
          30.16986387178147,
          26.077563449670148,
          37.69343094221862,
          24.487350253245374
         ]
        }
       ],
       "layout": {
        "coloraxis": {
         "colorbar": {
          "title": {
           "text": "avg_hourly_rate"
          }
         },
         "colorscale": [
          [
           0,
           "rgb(165,0,38)"
          ],
          [
           0.2,
           "rgb(215,48,39)"
          ],
          [
           0.4,
           "rgb(244,109,67)"
          ],
          [
           0.6,
           "rgb(253,174,97)"
          ],
          [
           0.8,
           "rgb(254,224,144)"
          ],
          [
           1,
           "rgb(255,255,191)"
          ]
         ]
        },
        "geo": {
         "center": {},
         "domain": {
          "x": [
           0,
           1
          ],
          "y": [
           0,
           1
          ]
         },
         "projection": {
          "type": "equirectangular"
         },
         "showcoastlines": false,
         "showframe": false
        },
        "height": 800,
        "legend": {
         "tracegroupgap": 0
        },
        "template": {
         "data": {
          "bar": [
           {
            "error_x": {
             "color": "#2a3f5f"
            },
            "error_y": {
             "color": "#2a3f5f"
            },
            "marker": {
             "line": {
              "color": "#E5ECF6",
              "width": 0.5
             },
             "pattern": {
              "fillmode": "overlay",
              "size": 10,
              "solidity": 0.2
             }
            },
            "type": "bar"
           }
          ],
          "barpolar": [
           {
            "marker": {
             "line": {
              "color": "#E5ECF6",
              "width": 0.5
             },
             "pattern": {
              "fillmode": "overlay",
              "size": 10,
              "solidity": 0.2
             }
            },
            "type": "barpolar"
           }
          ],
          "carpet": [
           {
            "aaxis": {
             "endlinecolor": "#2a3f5f",
             "gridcolor": "white",
             "linecolor": "white",
             "minorgridcolor": "white",
             "startlinecolor": "#2a3f5f"
            },
            "baxis": {
             "endlinecolor": "#2a3f5f",
             "gridcolor": "white",
             "linecolor": "white",
             "minorgridcolor": "white",
             "startlinecolor": "#2a3f5f"
            },
            "type": "carpet"
           }
          ],
          "choropleth": [
           {
            "colorbar": {
             "outlinewidth": 0,
             "ticks": ""
            },
            "type": "choropleth"
           }
          ],
          "contour": [
           {
            "colorbar": {
             "outlinewidth": 0,
             "ticks": ""
            },
            "colorscale": [
             [
              0,
              "#0d0887"
             ],
             [
              0.1111111111111111,
              "#46039f"
             ],
             [
              0.2222222222222222,
              "#7201a8"
             ],
             [
              0.3333333333333333,
              "#9c179e"
             ],
             [
              0.4444444444444444,
              "#bd3786"
             ],
             [
              0.5555555555555556,
              "#d8576b"
             ],
             [
              0.6666666666666666,
              "#ed7953"
             ],
             [
              0.7777777777777778,
              "#fb9f3a"
             ],
             [
              0.8888888888888888,
              "#fdca26"
             ],
             [
              1,
              "#f0f921"
             ]
            ],
            "type": "contour"
           }
          ],
          "contourcarpet": [
           {
            "colorbar": {
             "outlinewidth": 0,
             "ticks": ""
            },
            "type": "contourcarpet"
           }
          ],
          "heatmap": [
           {
            "colorbar": {
             "outlinewidth": 0,
             "ticks": ""
            },
            "colorscale": [
             [
              0,
              "#0d0887"
             ],
             [
              0.1111111111111111,
              "#46039f"
             ],
             [
              0.2222222222222222,
              "#7201a8"
             ],
             [
              0.3333333333333333,
              "#9c179e"
             ],
             [
              0.4444444444444444,
              "#bd3786"
             ],
             [
              0.5555555555555556,
              "#d8576b"
             ],
             [
              0.6666666666666666,
              "#ed7953"
             ],
             [
              0.7777777777777778,
              "#fb9f3a"
             ],
             [
              0.8888888888888888,
              "#fdca26"
             ],
             [
              1,
              "#f0f921"
             ]
            ],
            "type": "heatmap"
           }
          ],
          "heatmapgl": [
           {
            "colorbar": {
             "outlinewidth": 0,
             "ticks": ""
            },
            "colorscale": [
             [
              0,
              "#0d0887"
             ],
             [
              0.1111111111111111,
              "#46039f"
             ],
             [
              0.2222222222222222,
              "#7201a8"
             ],
             [
              0.3333333333333333,
              "#9c179e"
             ],
             [
              0.4444444444444444,
              "#bd3786"
             ],
             [
              0.5555555555555556,
              "#d8576b"
             ],
             [
              0.6666666666666666,
              "#ed7953"
             ],
             [
              0.7777777777777778,
              "#fb9f3a"
             ],
             [
              0.8888888888888888,
              "#fdca26"
             ],
             [
              1,
              "#f0f921"
             ]
            ],
            "type": "heatmapgl"
           }
          ],
          "histogram": [
           {
            "marker": {
             "pattern": {
              "fillmode": "overlay",
              "size": 10,
              "solidity": 0.2
             }
            },
            "type": "histogram"
           }
          ],
          "histogram2d": [
           {
            "colorbar": {
             "outlinewidth": 0,
             "ticks": ""
            },
            "colorscale": [
             [
              0,
              "#0d0887"
             ],
             [
              0.1111111111111111,
              "#46039f"
             ],
             [
              0.2222222222222222,
              "#7201a8"
             ],
             [
              0.3333333333333333,
              "#9c179e"
             ],
             [
              0.4444444444444444,
              "#bd3786"
             ],
             [
              0.5555555555555556,
              "#d8576b"
             ],
             [
              0.6666666666666666,
              "#ed7953"
             ],
             [
              0.7777777777777778,
              "#fb9f3a"
             ],
             [
              0.8888888888888888,
              "#fdca26"
             ],
             [
              1,
              "#f0f921"
             ]
            ],
            "type": "histogram2d"
           }
          ],
          "histogram2dcontour": [
           {
            "colorbar": {
             "outlinewidth": 0,
             "ticks": ""
            },
            "colorscale": [
             [
              0,
              "#0d0887"
             ],
             [
              0.1111111111111111,
              "#46039f"
             ],
             [
              0.2222222222222222,
              "#7201a8"
             ],
             [
              0.3333333333333333,
              "#9c179e"
             ],
             [
              0.4444444444444444,
              "#bd3786"
             ],
             [
              0.5555555555555556,
              "#d8576b"
             ],
             [
              0.6666666666666666,
              "#ed7953"
             ],
             [
              0.7777777777777778,
              "#fb9f3a"
             ],
             [
              0.8888888888888888,
              "#fdca26"
             ],
             [
              1,
              "#f0f921"
             ]
            ],
            "type": "histogram2dcontour"
           }
          ],
          "mesh3d": [
           {
            "colorbar": {
             "outlinewidth": 0,
             "ticks": ""
            },
            "type": "mesh3d"
           }
          ],
          "parcoords": [
           {
            "line": {
             "colorbar": {
              "outlinewidth": 0,
              "ticks": ""
             }
            },
            "type": "parcoords"
           }
          ],
          "pie": [
           {
            "automargin": true,
            "type": "pie"
           }
          ],
          "scatter": [
           {
            "fillpattern": {
             "fillmode": "overlay",
             "size": 10,
             "solidity": 0.2
            },
            "type": "scatter"
           }
          ],
          "scatter3d": [
           {
            "line": {
             "colorbar": {
              "outlinewidth": 0,
              "ticks": ""
             }
            },
            "marker": {
             "colorbar": {
              "outlinewidth": 0,
              "ticks": ""
             }
            },
            "type": "scatter3d"
           }
          ],
          "scattercarpet": [
           {
            "marker": {
             "colorbar": {
              "outlinewidth": 0,
              "ticks": ""
             }
            },
            "type": "scattercarpet"
           }
          ],
          "scattergeo": [
           {
            "marker": {
             "colorbar": {
              "outlinewidth": 0,
              "ticks": ""
             }
            },
            "type": "scattergeo"
           }
          ],
          "scattergl": [
           {
            "marker": {
             "colorbar": {
              "outlinewidth": 0,
              "ticks": ""
             }
            },
            "type": "scattergl"
           }
          ],
          "scattermapbox": [
           {
            "marker": {
             "colorbar": {
              "outlinewidth": 0,
              "ticks": ""
             }
            },
            "type": "scattermapbox"
           }
          ],
          "scatterpolar": [
           {
            "marker": {
             "colorbar": {
              "outlinewidth": 0,
              "ticks": ""
             }
            },
            "type": "scatterpolar"
           }
          ],
          "scatterpolargl": [
           {
            "marker": {
             "colorbar": {
              "outlinewidth": 0,
              "ticks": ""
             }
            },
            "type": "scatterpolargl"
           }
          ],
          "scatterternary": [
           {
            "marker": {
             "colorbar": {
              "outlinewidth": 0,
              "ticks": ""
             }
            },
            "type": "scatterternary"
           }
          ],
          "surface": [
           {
            "colorbar": {
             "outlinewidth": 0,
             "ticks": ""
            },
            "colorscale": [
             [
              0,
              "#0d0887"
             ],
             [
              0.1111111111111111,
              "#46039f"
             ],
             [
              0.2222222222222222,
              "#7201a8"
             ],
             [
              0.3333333333333333,
              "#9c179e"
             ],
             [
              0.4444444444444444,
              "#bd3786"
             ],
             [
              0.5555555555555556,
              "#d8576b"
             ],
             [
              0.6666666666666666,
              "#ed7953"
             ],
             [
              0.7777777777777778,
              "#fb9f3a"
             ],
             [
              0.8888888888888888,
              "#fdca26"
             ],
             [
              1,
              "#f0f921"
             ]
            ],
            "type": "surface"
           }
          ],
          "table": [
           {
            "cells": {
             "fill": {
              "color": "#EBF0F8"
             },
             "line": {
              "color": "white"
             }
            },
            "header": {
             "fill": {
              "color": "#C8D4E3"
             },
             "line": {
              "color": "white"
             }
            },
            "type": "table"
           }
          ]
         },
         "layout": {
          "annotationdefaults": {
           "arrowcolor": "#2a3f5f",
           "arrowhead": 0,
           "arrowwidth": 1
          },
          "autotypenumbers": "strict",
          "coloraxis": {
           "colorbar": {
            "outlinewidth": 0,
            "ticks": ""
           }
          },
          "colorscale": {
           "diverging": [
            [
             0,
             "#8e0152"
            ],
            [
             0.1,
             "#c51b7d"
            ],
            [
             0.2,
             "#de77ae"
            ],
            [
             0.3,
             "#f1b6da"
            ],
            [
             0.4,
             "#fde0ef"
            ],
            [
             0.5,
             "#f7f7f7"
            ],
            [
             0.6,
             "#e6f5d0"
            ],
            [
             0.7,
             "#b8e186"
            ],
            [
             0.8,
             "#7fbc41"
            ],
            [
             0.9,
             "#4d9221"
            ],
            [
             1,
             "#276419"
            ]
           ],
           "sequential": [
            [
             0,
             "#0d0887"
            ],
            [
             0.1111111111111111,
             "#46039f"
            ],
            [
             0.2222222222222222,
             "#7201a8"
            ],
            [
             0.3333333333333333,
             "#9c179e"
            ],
            [
             0.4444444444444444,
             "#bd3786"
            ],
            [
             0.5555555555555556,
             "#d8576b"
            ],
            [
             0.6666666666666666,
             "#ed7953"
            ],
            [
             0.7777777777777778,
             "#fb9f3a"
            ],
            [
             0.8888888888888888,
             "#fdca26"
            ],
            [
             1,
             "#f0f921"
            ]
           ],
           "sequentialminus": [
            [
             0,
             "#0d0887"
            ],
            [
             0.1111111111111111,
             "#46039f"
            ],
            [
             0.2222222222222222,
             "#7201a8"
            ],
            [
             0.3333333333333333,
             "#9c179e"
            ],
            [
             0.4444444444444444,
             "#bd3786"
            ],
            [
             0.5555555555555556,
             "#d8576b"
            ],
            [
             0.6666666666666666,
             "#ed7953"
            ],
            [
             0.7777777777777778,
             "#fb9f3a"
            ],
            [
             0.8888888888888888,
             "#fdca26"
            ],
            [
             1,
             "#f0f921"
            ]
           ]
          },
          "colorway": [
           "#636efa",
           "#EF553B",
           "#00cc96",
           "#ab63fa",
           "#FFA15A",
           "#19d3f3",
           "#FF6692",
           "#B6E880",
           "#FF97FF",
           "#FECB52"
          ],
          "font": {
           "color": "#2a3f5f"
          },
          "geo": {
           "bgcolor": "white",
           "lakecolor": "white",
           "landcolor": "#E5ECF6",
           "showlakes": true,
           "showland": true,
           "subunitcolor": "white"
          },
          "hoverlabel": {
           "align": "left"
          },
          "hovermode": "closest",
          "mapbox": {
           "style": "light"
          },
          "paper_bgcolor": "white",
          "plot_bgcolor": "#E5ECF6",
          "polar": {
           "angularaxis": {
            "gridcolor": "white",
            "linecolor": "white",
            "ticks": ""
           },
           "bgcolor": "#E5ECF6",
           "radialaxis": {
            "gridcolor": "white",
            "linecolor": "white",
            "ticks": ""
           }
          },
          "scene": {
           "xaxis": {
            "backgroundcolor": "#E5ECF6",
            "gridcolor": "white",
            "gridwidth": 2,
            "linecolor": "white",
            "showbackground": true,
            "ticks": "",
            "zerolinecolor": "white"
           },
           "yaxis": {
            "backgroundcolor": "#E5ECF6",
            "gridcolor": "white",
            "gridwidth": 2,
            "linecolor": "white",
            "showbackground": true,
            "ticks": "",
            "zerolinecolor": "white"
           },
           "zaxis": {
            "backgroundcolor": "#E5ECF6",
            "gridcolor": "white",
            "gridwidth": 2,
            "linecolor": "white",
            "showbackground": true,
            "ticks": "",
            "zerolinecolor": "white"
           }
          },
          "shapedefaults": {
           "line": {
            "color": "#2a3f5f"
           }
          },
          "ternary": {
           "aaxis": {
            "gridcolor": "white",
            "linecolor": "white",
            "ticks": ""
           },
           "baxis": {
            "gridcolor": "white",
            "linecolor": "white",
            "ticks": ""
           },
           "bgcolor": "#E5ECF6",
           "caxis": {
            "gridcolor": "white",
            "linecolor": "white",
            "ticks": ""
           }
          },
          "title": {
           "x": 0.05
          },
          "xaxis": {
           "automargin": true,
           "gridcolor": "white",
           "linecolor": "white",
           "ticks": "",
           "title": {
            "standoff": 15
           },
           "zerolinecolor": "white",
           "zerolinewidth": 2
          },
          "yaxis": {
           "automargin": true,
           "gridcolor": "white",
           "linecolor": "white",
           "ticks": "",
           "title": {
            "standoff": 15
           },
           "zerolinecolor": "white",
           "zerolinewidth": 2
          }
         }
        },
        "title": {
         "text": "Average Hourly Rates by Country",
         "x": 0.5
        },
        "width": 1200
       }
      }
     },
     "metadata": {},
     "output_type": "display_data"
    }
   ],
   "source": [
    "# Filter out non-hourly jobs\n",
    "hourly_jobs = df[df['is_hourly'] == True].copy()\n",
    "\n",
    "# Calculate the average hourly rate\n",
    "hourly_jobs.loc[:, 'average_hourly_rate'] = hourly_jobs[['hourly_low', 'hourly_high']].mean(axis=1)\n",
    "\n",
    "# Drop rows with missing country or average hourly rate\n",
    "hourly_jobs = hourly_jobs.dropna(subset=['country', 'average_hourly_rate'])\n",
    "\n",
    "# Calculate average hourly rate by country\n",
    "country_hourly_rates = hourly_jobs.groupby('country')['average_hourly_rate'].mean().reset_index()\n",
    "\n",
    "# Rename columns for clarity\n",
    "country_hourly_rates.columns = ['country', 'avg_hourly_rate']\n",
    "\n",
    "# Define a custom color scale\n",
    "custom_color_scale = [\n",
    "    (0.0, \"rgb(165,0,38)\"),   # Dark red\n",
    "    (0.2, \"rgb(215,48,39)\"),  # Red\n",
    "    (0.4, \"rgb(244,109,67)\"), # Orange\n",
    "    (0.6, \"rgb(253,174,97)\"), # Light orange\n",
    "    (0.8, \"rgb(254,224,144)\"),# Yellow\n",
    "    (1.0, \"rgb(255,255,191)\") # Light yellow\n",
    "]\n",
    "\n",
    "# Create a choropleth map\n",
    "fig = px.choropleth(\n",
    "    country_hourly_rates,\n",
    "    locations=\"country\",\n",
    "    locationmode='country names',\n",
    "    color=\"avg_hourly_rate\",\n",
    "    hover_name=\"country\",\n",
    "    color_continuous_scale=custom_color_scale,\n",
    "    title=\"Average Hourly Rates by Country\"\n",
    ")\n",
    "\n",
    "# Update layout for better visuals and increased size\n",
    "fig.update_layout(\n",
    "    geo=dict(showframe=False, showcoastlines=False, projection_type='equirectangular'),\n",
    "    title=dict(x=0.5),\n",
    "    width=1200,   # Set the width of the plot\n",
    "    height=800    # Set the height of the plot\n",
    ")\n",
    "\n",
    "fig.show()\n"
   ]
  },
  {
   "cell_type": "code",
   "execution_count": 5,
   "id": "fbe486cb-b844-4d14-890e-44f5be409828",
   "metadata": {},
   "outputs": [
    {
     "data": {
      "text/html": [
       "<div>\n",
       "<style scoped>\n",
       "    .dataframe tbody tr th:only-of-type {\n",
       "        vertical-align: middle;\n",
       "    }\n",
       "\n",
       "    .dataframe tbody tr th {\n",
       "        vertical-align: top;\n",
       "    }\n",
       "\n",
       "    .dataframe thead th {\n",
       "        text-align: right;\n",
       "    }\n",
       "</style>\n",
       "<table border=\"1\" class=\"dataframe\">\n",
       "  <thead>\n",
       "    <tr style=\"text-align: right;\">\n",
       "      <th></th>\n",
       "      <th>Unnamed: 0</th>\n",
       "      <th>title</th>\n",
       "      <th>link</th>\n",
       "      <th>published_date</th>\n",
       "      <th>is_hourly</th>\n",
       "      <th>hourly_low</th>\n",
       "      <th>hourly_high</th>\n",
       "      <th>budget</th>\n",
       "      <th>country</th>\n",
       "      <th>avg_salary</th>\n",
       "      <th>category</th>\n",
       "      <th>month</th>\n",
       "      <th>year</th>\n",
       "      <th>month_year</th>\n",
       "      <th>text</th>\n",
       "    </tr>\n",
       "  </thead>\n",
       "  <tbody>\n",
       "    <tr>\n",
       "      <th>0</th>\n",
       "      <td>0</td>\n",
       "      <td>experienced media buyer for solar pannel and r...</td>\n",
       "      <td>https://www.upwork.com/jobs/Experienced-Media-...</td>\n",
       "      <td>2024-02-17 09:09:54+00:00</td>\n",
       "      <td>False</td>\n",
       "      <td>17.339644</td>\n",
       "      <td>41.97061</td>\n",
       "      <td>500.0</td>\n",
       "      <td>Unknown</td>\n",
       "      <td>29.655127</td>\n",
       "      <td>Other</td>\n",
       "      <td>2</td>\n",
       "      <td>2024</td>\n",
       "      <td>2024-02</td>\n",
       "      <td>experienced media buyer for solar pannel and r...</td>\n",
       "    </tr>\n",
       "    <tr>\n",
       "      <th>1</th>\n",
       "      <td>1</td>\n",
       "      <td>full stack developer</td>\n",
       "      <td>https://www.upwork.com/jobs/Full-Stack-Develop...</td>\n",
       "      <td>2024-02-17 09:09:17+00:00</td>\n",
       "      <td>False</td>\n",
       "      <td>17.339644</td>\n",
       "      <td>41.97061</td>\n",
       "      <td>1100.0</td>\n",
       "      <td>United States</td>\n",
       "      <td>29.655127</td>\n",
       "      <td>Full Stack Developer</td>\n",
       "      <td>2</td>\n",
       "      <td>2024</td>\n",
       "      <td>2024-02</td>\n",
       "      <td>full stack developer United States</td>\n",
       "    </tr>\n",
       "  </tbody>\n",
       "</table>\n",
       "</div>"
      ],
      "text/plain": [
       "   Unnamed: 0                                              title  \\\n",
       "0           0  experienced media buyer for solar pannel and r...   \n",
       "1           1                               full stack developer   \n",
       "\n",
       "                                                link  \\\n",
       "0  https://www.upwork.com/jobs/Experienced-Media-...   \n",
       "1  https://www.upwork.com/jobs/Full-Stack-Develop...   \n",
       "\n",
       "              published_date  is_hourly  hourly_low  hourly_high  budget  \\\n",
       "0  2024-02-17 09:09:54+00:00      False   17.339644     41.97061   500.0   \n",
       "1  2024-02-17 09:09:17+00:00      False   17.339644     41.97061  1100.0   \n",
       "\n",
       "         country  avg_salary              category  month  year month_year  \\\n",
       "0        Unknown   29.655127                 Other      2  2024    2024-02   \n",
       "1  United States   29.655127  Full Stack Developer      2  2024    2024-02   \n",
       "\n",
       "                                                text  \n",
       "0  experienced media buyer for solar pannel and r...  \n",
       "1                 full stack developer United States  "
      ]
     },
     "execution_count": 5,
     "metadata": {},
     "output_type": "execute_result"
    }
   ],
   "source": [
    "# combine title and country into s dnglr column for text processing\n",
    "df['text']=df['title']+\" \"+df[\"country\"]\n",
    "df.head(2)"
   ]
  },
  {
   "cell_type": "markdown",
   "id": "cdd6ad36-bbb0-489b-ab20-09b1bbbf094a",
   "metadata": {},
   "source": [
    "## Compare average hourly rates across different countries"
   ]
  },
  {
   "cell_type": "code",
   "execution_count": 6,
   "id": "b82d6d80-d717-458c-aef9-88614ed3bf10",
   "metadata": {},
   "outputs": [
    {
     "data": {
      "text/plain": [
       "(244828, 1000)"
      ]
     },
     "execution_count": 6,
     "metadata": {},
     "output_type": "execute_result"
    }
   ],
   "source": [
    "# Feature Engineering\n",
    "\n",
    "from sklearn.feature_extraction.text import TfidfVectorizer\n",
    "\n",
    "# Initialize TF-IDF Vectorizer\n",
    "tfidf = TfidfVectorizer(stop_words='english', max_features=1000)\n",
    "\n",
    "# Fit and transform the text data\n",
    "tfidf_matrix = tfidf.fit_transform(df['text'])\n",
    "\n",
    "# Display the shape of the TF-IDF matrix\n",
    "tfidf_matrix.shape"
   ]
  },
  {
   "cell_type": "code",
   "execution_count": 7,
   "id": "48e70c14-3cf9-45e4-bfac-f837335113b1",
   "metadata": {},
   "outputs": [
    {
     "name": "stdout",
     "output_type": "stream",
     "text": [
      "Requirement already satisfied: faiss-cpu in /opt/anaconda3/lib/python3.12/site-packages (1.10.0)\n",
      "Requirement already satisfied: numpy<3.0,>=1.25.0 in /opt/anaconda3/lib/python3.12/site-packages (from faiss-cpu) (1.26.4)\n",
      "Requirement already satisfied: packaging in /opt/anaconda3/lib/python3.12/site-packages (from faiss-cpu) (23.2)\n"
     ]
    }
   ],
   "source": [
    "! pip install faiss-cpu\n",
    "\n"
   ]
  },
  {
   "cell_type": "code",
   "execution_count": 8,
   "id": "ab5bfa8c-2bc6-436d-b88a-1b7003ac7195",
   "metadata": {},
   "outputs": [
    {
     "name": "stdout",
     "output_type": "stream",
     "text": [
      "                                                  title        country  \\\n",
      "1                                  full stack developer  United States   \n",
      "1657  full stack developer (us shifts) - monthly con...  United States   \n",
      "1966               full-stack developer mentorship role  United States   \n",
      "2025                          full stack maps developer  United States   \n",
      "3066                               full stack developer  United States   \n",
      "4551                               full-stack developer  United States   \n",
      "7435           full-stack developer with frontend focus  United States   \n",
      "7438               full stack developer with cro skills  United States   \n",
      "7610                   senior full stack .net developer  United States   \n",
      "8596                 java full stack developer with aws  United States   \n",
      "\n",
      "                                                   link  \n",
      "1     https://www.upwork.com/jobs/Full-Stack-Develop...  \n",
      "1657  https://www.upwork.com/jobs/Full-Stack-Develop...  \n",
      "1966  https://www.upwork.com/jobs/Full-Stack-Develop...  \n",
      "2025  https://www.upwork.com/jobs/Full-Stack-Maps-De...  \n",
      "3066  https://www.upwork.com/jobs/Full-Stack-Develop...  \n",
      "4551  https://www.upwork.com/jobs/Full-stack-develop...  \n",
      "7435  https://www.upwork.com/jobs/Full-Stack-Develop...  \n",
      "7438  https://www.upwork.com/jobs/Full-Stack-Develop...  \n",
      "7610  https://www.upwork.com/jobs/Senior-Full-Stack-...  \n",
      "8596  https://www.upwork.com/jobs/Java-Full-Stack-De...  \n"
     ]
    }
   ],
   "source": [
    "import faiss\n",
    "# Combine title and country into a single column fot text processing\n",
    "df['text']=df['title']+\" \"+df['country']\n",
    "\n",
    "# Initialize TF-IDF Vectorizer\n",
    "tfidf=TfidfVectorizer(stop_words='english',max_features=100)\n",
    "\n",
    "# Fit and transform the text data\n",
    "tfidf_matrix=tfidf.fit_transform(df['text']).toarray()\n",
    "\n",
    "# initalize the Faiss index\n",
    "d=tfidf_matrix.shape[1]# Dimestion of the vectors\n",
    "index=faiss.IndexFlatL2(d) # L2 distance index\n",
    "\n",
    "# Addd vectors to the index\n",
    "index.add(tfidf_matrix)\n",
    "\n",
    "def get_recommendation(job_title,n=10):\n",
    "    # get the index of the job that matches the job title\n",
    "    idx=df[df['title'].str.contains(job_title,case=False,na=False)].index[0]\n",
    "    # Get the vector fot the job\n",
    "    job_vector=tfidf_matrix[idx].reshape(1,-1)\n",
    "    #Search the index for the most similar vectors\n",
    "    distance,indices=index.search(job_vector,n)\n",
    "    # Return the most similar jobs\n",
    "    return df.iloc[indices[0]][['title','country','link']]\n",
    "\n",
    "# Test the recommendation function\n",
    "print(get_recommendation('Full Stack Developer'))"
   ]
  },
  {
   "cell_type": "code",
   "execution_count": 9,
   "id": "2d21d7e5-9c0a-4fe0-90f9-f339199114ef",
   "metadata": {},
   "outputs": [
    {
     "name": "stderr",
     "output_type": "stream",
     "text": [
      "/var/folders/w7/pp471v290xqffj0zmygxzr_c0000gn/T/ipykernel_15360/2226854676.py:5: UserWarning:\n",
      "\n",
      "Converting to PeriodArray/Index representation will drop timezone information.\n",
      "\n"
     ]
    }
   ],
   "source": [
    "# Ensure that published_date is in datetime format \n",
    "df['published_date']=pd.to_datetime(df['published_date'])\n",
    "\n",
    "# Extract month and year from 'published_date'\n",
    "df['year_month']=df['published_date'].dt.to_period('M')"
   ]
  },
  {
   "cell_type": "code",
   "execution_count": 10,
   "id": "970d1e19-1466-44ce-b58d-9674ecece285",
   "metadata": {},
   "outputs": [],
   "source": [
    "# Group by 'year_month ' to get the count of jobs posting each month\n",
    "monthly_job_counts=df.groupby('year_month').size().reset_index(name='job_count')\n",
    "\n",
    "# Convert 'year_month' to string format\n",
    "monthly_job_counts['year_month']=monthly_job_counts['year_month'].astype(str)"
   ]
  },
  {
   "cell_type": "code",
   "execution_count": 11,
   "id": "c9fd583d-483d-46d4-bc9b-3758ba693403",
   "metadata": {},
   "outputs": [
    {
     "name": "stderr",
     "output_type": "stream",
     "text": [
      "/var/folders/w7/pp471v290xqffj0zmygxzr_c0000gn/T/ipykernel_15360/358565646.py:4: UserWarning:\n",
      "\n",
      "Converting to PeriodArray/Index representation will drop timezone information.\n",
      "\n",
      "/var/folders/w7/pp471v290xqffj0zmygxzr_c0000gn/T/ipykernel_15360/358565646.py:4: SettingWithCopyWarning:\n",
      "\n",
      "\n",
      "A value is trying to be set on a copy of a slice from a DataFrame.\n",
      "Try using .loc[row_indexer,col_indexer] = value instead\n",
      "\n",
      "See the caveats in the documentation: https://pandas.pydata.org/pandas-docs/stable/user_guide/indexing.html#returning-a-view-versus-a-copy\n",
      "\n"
     ]
    }
   ],
   "source": [
    "remote_jobs=df[df['title'].str.contains('remote',case=False,na=False)]\n",
    "\n",
    "# Extract year and month from 'published_date'\n",
    "remote_jobs['year_month']=remote_jobs['published_date'].dt.to_period('M')\n",
    "\n",
    "# Group by 'year_month' to get the count of remote job posting each month\n",
    "monthly_remote_job_counts=remote_jobs.groupby('year_month').size().reset_index(name='job_count')\n",
    "monthly_remote_job_counts['year_month']=monthly_remote_job_counts['year_month'].astype(str)"
   ]
  },
  {
   "cell_type": "markdown",
   "id": "ce4b6413-294f-41da-a2cd-2e6684fc12c9",
   "metadata": {},
   "source": [
    "## Forecasting"
   ]
  },
  {
   "cell_type": "markdown",
   "id": "1f8925c0-0445-4713-85a9-8e57bc2faf13",
   "metadata": {},
   "source": [
    "## Predict future job market trends \n"
   ]
  },
  {
   "cell_type": "code",
   "execution_count": 12,
   "id": "51970c6d-bcab-4fdb-a8f5-7afec145e9ee",
   "metadata": {},
   "outputs": [],
   "source": [
    "import pandas as pd\n",
    "from prophet import Prophet\n",
    "import matplotlib.pyplot as plt\n",
    "%matplotlib inline"
   ]
  },
  {
   "cell_type": "code",
   "execution_count": 13,
   "id": "1a07def4-c556-4362-9b6d-0d629b79aa33",
   "metadata": {},
   "outputs": [
    {
     "name": "stderr",
     "output_type": "stream",
     "text": [
      "18:30:37 - cmdstanpy - INFO - Chain [1] start processing\n",
      "18:30:39 - cmdstanpy - INFO - Chain [1] done processing\n"
     ]
    },
    {
     "data": {
      "image/png": "[encoded data removed]",
      "text/plain": [
       "<Figure size 1000x600 with 1 Axes>"
      ]
     },
     "metadata": {},
     "output_type": "display_data"
    }
   ],
   "source": [
    "df=pd.read_csv('/Users/debasishguru/Desktop/untitled folder/Next Project Hike 8 /all_upwork_jobs_next.csv')\n",
    "\n",
    "# Convert the 'pblished_date' column to datetime\n",
    "df['published_date']=pd.to_datetime(df['published_date'])\n",
    "\n",
    "# Remove the timezone information from 'published_date' column\n",
    "df['published_date']=df['published_date'].dt.tz_localize(None)\n",
    "\n",
    "# Rename columns for Prophet compatibilty\n",
    "df=df.rename(columns={'published_date':'ds','budget':'y'})\n",
    "\n",
    "# Create and fit the prophet model\n",
    "model=Prophet()\n",
    "model.fit(df)\n",
    "\n",
    "# nmake future predications\n",
    "future=model.make_future_dataframe(periods=365)\n",
    "forecast=model.predict(future)\n",
    "\n",
    "# plot the forecast\n",
    "fig=model.plot(forecast)\n",
    "\n",
    "# show the plot\n",
    "plt.show()"
   ]
  },
  {
   "cell_type": "code",
   "execution_count": null,
   "id": "8684cd1c-8ed3-4aed-a16d-11a09acc17be",
   "metadata": {},
   "outputs": [],
   "source": []
  },
  {
   "cell_type": "code",
   "execution_count": null,
   "id": "1addb175-8982-4874-801a-291389299a7d",
   "metadata": {},
   "outputs": [],
   "source": []
  },
  {
   "cell_type": "code",
   "execution_count": null,
   "id": "0c3076cf",
   "metadata": {},
   "outputs": [],
   "source": []
  },
  {
   "cell_type": "code",
   "execution_count": null,
   "id": "d4589195",
   "metadata": {},
   "outputs": [],
   "source": []
  }
 ],
 "metadata": {
  "kernelspec": {
   "display_name": "base",
   "language": "python",
   "name": "python3"
  },
  "language_info": {
   "codemirror_mode": {
    "name": "ipython",
    "version": 3
   },
   "file_extension": ".py",
   "mimetype": "text/x-python",
   "name": "python",
   "nbconvert_exporter": "python",
   "pygments_lexer": "ipython3",
   "version": "3.12.4"
  }
 },
 "nbformat": 4,
 "nbformat_minor": 5
}
